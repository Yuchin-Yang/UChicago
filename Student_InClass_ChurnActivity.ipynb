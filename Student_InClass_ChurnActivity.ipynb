{
 "cells": [
  {
   "cell_type": "markdown",
   "id": "c7d3fad8-27d7-4589-b0ad-d2d3f0174f5b",
   "metadata": {},
   "source": [
    "## A Starting Notebook for an in-class Churn Activity"
   ]
  },
  {
   "cell_type": "markdown",
   "id": "33b81779-7512-47ed-aa38-2141cbe3090f",
   "metadata": {},
   "source": [
    "## Business Problem\n",
    "\n",
    "In a telecommunications company, there are promotional costs known as acquisition costs and retention costs. acquisition cost is the cost for a company to acquire new customers. Meanwhile, retention cost is the cost for the company to retain existing customers.\n",
    "\n",
    "The acquisition cost can be five times greater than the retention cost."
   ]
  },
  {
   "cell_type": "markdown",
   "id": "a73144ec-14ff-40d5-b0cf-b5645de52559",
   "metadata": {},
   "source": [
    "## Analytics Problem\n",
    "\n",
    "The company would like you to explore their churn data and develop a ML model (Decision Tree Classifier) to predict who will stay and who will leave. You are provided with data for 5000 customers and whether they left or stayed with the company (Churn Value)."
   ]
  },
  {
   "cell_type": "markdown",
   "id": "cee88f04-1f99-47ce-b249-5b27be7aa813",
   "metadata": {},
   "source": [
    "## Data Description\n",
    "7043 observations with 33 variables\n",
    "\n",
    "CustomerID: A unique ID that identifies each customer.\n",
    "\n",
    "Count: A value used in reporting/dashboarding to sum up the number of customers in a filtered set.\n",
    "\n",
    "Country: The country of the customer’s primary residence.\n",
    "\n",
    "State: The state of the customer’s primary residence.\n",
    "\n",
    "City: The city of the customer’s primary residence.\n",
    "\n",
    "Zip Code: The zip code of the customer’s primary residence.\n",
    "\n",
    "Lat Long: The combined latitude and longitude of the customer’s primary residence.\n",
    "\n",
    "Latitude: The latitude of the customer’s primary residence.\n",
    "\n",
    "Longitude: The longitude of the customer’s primary residence.\n",
    "\n",
    "Gender: The customer’s gender: Male, Female\n",
    "\n",
    "Senior Citizen: Indicates if the customer is 65 or older: Yes, No\n",
    "\n",
    "Partner: Indicate if the customer has a partner: Yes, No\n",
    "\n",
    "Dependents: Indicates if the customer lives with any dependents: Yes, No. Dependents could be children, parents, grandparents, etc.\n",
    "\n",
    "Tenure Months: Indicates the total amount of months that the customer has been with the company by the end of the quarter specified above.\n",
    "\n",
    "Phone Service: Indicates if the customer subscribes to home phone service with the company: Yes, No\n",
    "\n",
    "Multiple Lines: Indicates if the customer subscribes to multiple telephone lines with the company: Yes, No\n",
    "\n",
    "Internet Service: Indicates if the customer subscribes to Internet service with the company: No, DSL, Fiber Optic, Cable.\n",
    "\n",
    "Online Security: Indicates if the customer subscribes to an additional online security service provided by the company: Yes, No\n",
    "\n",
    "Online Backup: Indicates if the customer subscribes to an additional online backup service provided by the company: Yes, No\n",
    "\n",
    "Device Protection: Indicates if the customer subscribes to an additional device protection plan for their Internet equipment provided by the company: Yes, No\n",
    "\n",
    "Tech Support: Indicates if the customer subscribes to an additional technical support plan from the company with reduced wait times: Yes, No\n",
    "\n",
    "Streaming TV: Indicates if the customer uses their Internet service to stream television programing from a third party provider: Yes, No. The company does not charge an additional fee for this service.\n",
    "\n",
    "Streaming Movies: Indicates if the customer uses their Internet service to stream movies from a third party provider: Yes, No. The company does not charge an additional fee for this service.\n",
    "\n",
    "Contract: Indicates the customer’s current contract type: Month-to-Month, One Year, Two Year.\n",
    "\n",
    "Paperless Billing: Indicates if the customer has chosen paperless billing: Yes, No\n",
    "\n",
    "Payment Method: Indicates how the customer pays their bill: Bank Withdrawal, Credit Card, Mailed Check\n",
    "\n",
    "Monthly Charge: Indicates the customer’s current total monthly charge for all their services from the company.\n",
    "\n",
    "Total Charges: Indicates the customer’s total charges, calculated to the end of the quarter specified above.\n",
    "\n",
    "Churn Value: 1 = the customer left the company this quarter. 0 = the customer remained with the company. (TARGET)\n",
    "\n",
    "CLTV: Customer Lifetime Value. A predicted CLTV is calculated using corporate formulas and existing data. The higher the value, the more valuable the customer. High value customers should be monitored for churn."
   ]
  },
  {
   "cell_type": "code",
   "execution_count": 1,
   "id": "23a0cb2e-7006-4557-b09e-85c3bbaee687",
   "metadata": {},
   "outputs": [],
   "source": [
    "# import packages\n",
    "import warnings\n",
    "warnings.filterwarnings('ignore')\n",
    "\n",
    "import os\n",
    "\n",
    "import pandas as pd\n",
    "import numpy as np\n",
    "import matplotlib.pyplot as plt\n",
    "\n",
    "import seaborn as sns\n",
    "\n",
    "from sklearn.tree import DecisionTreeClassifier, plot_tree\n",
    "from sklearn.model_selection import train_test_split\n",
    "from sklearn.metrics import accuracy_score, recall_score, precision_score, f1_score\n",
    "from sklearn.metrics import confusion_matrix, roc_curve, roc_auc_score, ConfusionMatrixDisplay\n",
    "\n",
    "# Set the display options to print the dataframe\n",
    "# pd.options.display.float_format = '{:,.3f}'.format"
   ]
  },
  {
   "cell_type": "markdown",
   "id": "9f7f1a65-c06b-4868-91fa-e4db5fa9b900",
   "metadata": {},
   "source": [
    "### Read and Clean the Data"
   ]
  },
  {
   "cell_type": "code",
   "execution_count": 2,
   "id": "2f626743-1cab-41d7-b3a4-267c1153767b",
   "metadata": {},
   "outputs": [
    {
     "data": {
      "text/html": [
       "<div>\n",
       "<style scoped>\n",
       "    .dataframe tbody tr th:only-of-type {\n",
       "        vertical-align: middle;\n",
       "    }\n",
       "\n",
       "    .dataframe tbody tr th {\n",
       "        vertical-align: top;\n",
       "    }\n",
       "\n",
       "    .dataframe thead th {\n",
       "        text-align: right;\n",
       "    }\n",
       "</style>\n",
       "<table border=\"1\" class=\"dataframe\">\n",
       "  <thead>\n",
       "    <tr style=\"text-align: right;\">\n",
       "      <th></th>\n",
       "      <th>CustomerID</th>\n",
       "      <th>Count</th>\n",
       "      <th>Country</th>\n",
       "      <th>State</th>\n",
       "      <th>City</th>\n",
       "      <th>Zip_Code</th>\n",
       "      <th>Lat_Long</th>\n",
       "      <th>Latitude</th>\n",
       "      <th>Longitude</th>\n",
       "      <th>Gender</th>\n",
       "      <th>...</th>\n",
       "      <th>Tech_Support</th>\n",
       "      <th>Streaming_TV</th>\n",
       "      <th>Streaming_Movies</th>\n",
       "      <th>Contract</th>\n",
       "      <th>Paperless_Billing</th>\n",
       "      <th>Payment_Method</th>\n",
       "      <th>Monthly_Charges</th>\n",
       "      <th>Total_Charges</th>\n",
       "      <th>Churn_Value</th>\n",
       "      <th>CLTV</th>\n",
       "    </tr>\n",
       "  </thead>\n",
       "  <tbody>\n",
       "    <tr>\n",
       "      <th>0</th>\n",
       "      <td>0378-TOVMS</td>\n",
       "      <td>1</td>\n",
       "      <td>United States</td>\n",
       "      <td>California</td>\n",
       "      <td>Vernalis</td>\n",
       "      <td>95385</td>\n",
       "      <td>37.609095, -121.263381</td>\n",
       "      <td>37.609095</td>\n",
       "      <td>-121.263381</td>\n",
       "      <td>Female</td>\n",
       "      <td>...</td>\n",
       "      <td>Yes</td>\n",
       "      <td>No</td>\n",
       "      <td>Yes</td>\n",
       "      <td>Month-to-month</td>\n",
       "      <td>No</td>\n",
       "      <td>Electronic check</td>\n",
       "      <td>85.80</td>\n",
       "      <td>272.2</td>\n",
       "      <td>1</td>\n",
       "      <td>5641</td>\n",
       "    </tr>\n",
       "    <tr>\n",
       "      <th>1</th>\n",
       "      <td>0376-YMCJC</td>\n",
       "      <td>1</td>\n",
       "      <td>United States</td>\n",
       "      <td>California</td>\n",
       "      <td>Novato</td>\n",
       "      <td>94949</td>\n",
       "      <td>38.067204, -122.524004</td>\n",
       "      <td>38.067204</td>\n",
       "      <td>-122.524004</td>\n",
       "      <td>Male</td>\n",
       "      <td>...</td>\n",
       "      <td>Yes</td>\n",
       "      <td>Yes</td>\n",
       "      <td>No</td>\n",
       "      <td>Month-to-month</td>\n",
       "      <td>Yes</td>\n",
       "      <td>Electronic check</td>\n",
       "      <td>90.60</td>\n",
       "      <td>1943.2</td>\n",
       "      <td>1</td>\n",
       "      <td>4359</td>\n",
       "    </tr>\n",
       "    <tr>\n",
       "      <th>2</th>\n",
       "      <td>8938-UMKPI</td>\n",
       "      <td>1</td>\n",
       "      <td>United States</td>\n",
       "      <td>California</td>\n",
       "      <td>Corona</td>\n",
       "      <td>92882</td>\n",
       "      <td>33.819385, -117.600213</td>\n",
       "      <td>33.819385</td>\n",
       "      <td>-117.600213</td>\n",
       "      <td>Female</td>\n",
       "      <td>...</td>\n",
       "      <td>No</td>\n",
       "      <td>Yes</td>\n",
       "      <td>Yes</td>\n",
       "      <td>Month-to-month</td>\n",
       "      <td>Yes</td>\n",
       "      <td>Electronic check</td>\n",
       "      <td>106.40</td>\n",
       "      <td>5127.95</td>\n",
       "      <td>1</td>\n",
       "      <td>4804</td>\n",
       "    </tr>\n",
       "    <tr>\n",
       "      <th>3</th>\n",
       "      <td>4439-JMPMT</td>\n",
       "      <td>1</td>\n",
       "      <td>United States</td>\n",
       "      <td>California</td>\n",
       "      <td>Comptche</td>\n",
       "      <td>95427</td>\n",
       "      <td>39.239818, -123.565432</td>\n",
       "      <td>39.239818</td>\n",
       "      <td>-123.565432</td>\n",
       "      <td>Female</td>\n",
       "      <td>...</td>\n",
       "      <td>Yes</td>\n",
       "      <td>Yes</td>\n",
       "      <td>No</td>\n",
       "      <td>Month-to-month</td>\n",
       "      <td>Yes</td>\n",
       "      <td>Electronic check</td>\n",
       "      <td>85.75</td>\n",
       "      <td>470.95</td>\n",
       "      <td>1</td>\n",
       "      <td>3608</td>\n",
       "    </tr>\n",
       "    <tr>\n",
       "      <th>4</th>\n",
       "      <td>9601-BRXPO</td>\n",
       "      <td>1</td>\n",
       "      <td>United States</td>\n",
       "      <td>California</td>\n",
       "      <td>San Diego</td>\n",
       "      <td>92129</td>\n",
       "      <td>32.961064, -117.134917</td>\n",
       "      <td>32.961064</td>\n",
       "      <td>-117.134917</td>\n",
       "      <td>Female</td>\n",
       "      <td>...</td>\n",
       "      <td>Yes</td>\n",
       "      <td>Yes</td>\n",
       "      <td>Yes</td>\n",
       "      <td>Month-to-month</td>\n",
       "      <td>Yes</td>\n",
       "      <td>Bank transfer (automatic)</td>\n",
       "      <td>104.95</td>\n",
       "      <td>2566.5</td>\n",
       "      <td>1</td>\n",
       "      <td>3642</td>\n",
       "    </tr>\n",
       "  </tbody>\n",
       "</table>\n",
       "<p>5 rows × 30 columns</p>\n",
       "</div>"
      ],
      "text/plain": [
       "   CustomerID  Count        Country       State       City  Zip_Code  \\\n",
       "0  0378-TOVMS      1  United States  California   Vernalis     95385   \n",
       "1  0376-YMCJC      1  United States  California     Novato     94949   \n",
       "2  8938-UMKPI      1  United States  California     Corona     92882   \n",
       "3  4439-JMPMT      1  United States  California   Comptche     95427   \n",
       "4  9601-BRXPO      1  United States  California  San Diego     92129   \n",
       "\n",
       "                 Lat_Long   Latitude   Longitude  Gender  ... Tech_Support  \\\n",
       "0  37.609095, -121.263381  37.609095 -121.263381  Female  ...          Yes   \n",
       "1  38.067204, -122.524004  38.067204 -122.524004    Male  ...          Yes   \n",
       "2  33.819385, -117.600213  33.819385 -117.600213  Female  ...           No   \n",
       "3  39.239818, -123.565432  39.239818 -123.565432  Female  ...          Yes   \n",
       "4  32.961064, -117.134917  32.961064 -117.134917  Female  ...          Yes   \n",
       "\n",
       "  Streaming_TV Streaming_Movies        Contract Paperless_Billing  \\\n",
       "0           No              Yes  Month-to-month                No   \n",
       "1          Yes               No  Month-to-month               Yes   \n",
       "2          Yes              Yes  Month-to-month               Yes   \n",
       "3          Yes               No  Month-to-month               Yes   \n",
       "4          Yes              Yes  Month-to-month               Yes   \n",
       "\n",
       "              Payment_Method Monthly_Charges Total_Charges Churn_Value  CLTV  \n",
       "0           Electronic check           85.80         272.2           1  5641  \n",
       "1           Electronic check           90.60        1943.2           1  4359  \n",
       "2           Electronic check          106.40       5127.95           1  4804  \n",
       "3           Electronic check           85.75        470.95           1  3608  \n",
       "4  Bank transfer (automatic)          104.95        2566.5           1  3642  \n",
       "\n",
       "[5 rows x 30 columns]"
      ]
     },
     "execution_count": 2,
     "metadata": {},
     "output_type": "execute_result"
    }
   ],
   "source": [
    "churn_df = pd.read_csv('Data/Student_Churn_Data.csv')\n",
    "churn_df.columns = [s.strip().replace(' ', '_') for s in churn_df.columns]\n",
    "churn_df.head()"
   ]
  },
  {
   "cell_type": "code",
   "execution_count": 3,
   "id": "14803f28-0c15-4809-9344-16192c807b0f",
   "metadata": {},
   "outputs": [
    {
     "name": "stdout",
     "output_type": "stream",
     "text": [
      "<class 'pandas.core.frame.DataFrame'>\n",
      "RangeIndex: 5000 entries, 0 to 4999\n",
      "Data columns (total 30 columns):\n",
      " #   Column             Non-Null Count  Dtype  \n",
      "---  ------             --------------  -----  \n",
      " 0   CustomerID         5000 non-null   object \n",
      " 1   Count              5000 non-null   int64  \n",
      " 2   Country            5000 non-null   object \n",
      " 3   State              5000 non-null   object \n",
      " 4   City               5000 non-null   object \n",
      " 5   Zip_Code           5000 non-null   int64  \n",
      " 6   Lat_Long           5000 non-null   object \n",
      " 7   Latitude           5000 non-null   float64\n",
      " 8   Longitude          5000 non-null   float64\n",
      " 9   Gender             5000 non-null   object \n",
      " 10  Senior_Citizen     5000 non-null   object \n",
      " 11  Partner            5000 non-null   object \n",
      " 12  Dependents         5000 non-null   object \n",
      " 13  Tenure_Months      5000 non-null   int64  \n",
      " 14  Phone_Service      5000 non-null   object \n",
      " 15  Multiple_Lines     5000 non-null   object \n",
      " 16  Internet_Service   5000 non-null   object \n",
      " 17  Online_Security    5000 non-null   object \n",
      " 18  Online_Backup      5000 non-null   object \n",
      " 19  Device_Protection  5000 non-null   object \n",
      " 20  Tech_Support       5000 non-null   object \n",
      " 21  Streaming_TV       5000 non-null   object \n",
      " 22  Streaming_Movies   5000 non-null   object \n",
      " 23  Contract           5000 non-null   object \n",
      " 24  Paperless_Billing  5000 non-null   object \n",
      " 25  Payment_Method     5000 non-null   object \n",
      " 26  Monthly_Charges    5000 non-null   float64\n",
      " 27  Total_Charges      5000 non-null   object \n",
      " 28  Churn_Value        5000 non-null   int64  \n",
      " 29  CLTV               5000 non-null   int64  \n",
      "dtypes: float64(3), int64(5), object(22)\n",
      "memory usage: 1.1+ MB\n"
     ]
    }
   ],
   "source": [
    "churn_df.info()"
   ]
  },
  {
   "cell_type": "code",
   "execution_count": 4,
   "id": "23a9e3a7-b8ee-425e-8361-5f4237d85608",
   "metadata": {},
   "outputs": [],
   "source": [
    "def report(df):\n",
    "    col = []\n",
    "    d_type = []\n",
    "    uniques = []\n",
    "    n_uniques = []\n",
    "    \n",
    "    for i in df.columns:\n",
    "        col.append(i)\n",
    "        d_type.append(df[i].dtypes)\n",
    "        uniques.append(df[i].unique()[:5])\n",
    "        n_uniques.append(df[i].nunique())\n",
    "    \n",
    "    return pd.DataFrame({'Column': col, 'd_type': d_type, 'unique_sample': uniques, 'n_uniques': n_uniques})"
   ]
  },
  {
   "cell_type": "code",
   "execution_count": 5,
   "id": "339ea794-adcd-4b90-87f8-dd2cc1d625b0",
   "metadata": {},
   "outputs": [
    {
     "data": {
      "text/html": [
       "<div>\n",
       "<style scoped>\n",
       "    .dataframe tbody tr th:only-of-type {\n",
       "        vertical-align: middle;\n",
       "    }\n",
       "\n",
       "    .dataframe tbody tr th {\n",
       "        vertical-align: top;\n",
       "    }\n",
       "\n",
       "    .dataframe thead th {\n",
       "        text-align: right;\n",
       "    }\n",
       "</style>\n",
       "<table border=\"1\" class=\"dataframe\">\n",
       "  <thead>\n",
       "    <tr style=\"text-align: right;\">\n",
       "      <th></th>\n",
       "      <th>Column</th>\n",
       "      <th>d_type</th>\n",
       "      <th>unique_sample</th>\n",
       "      <th>n_uniques</th>\n",
       "    </tr>\n",
       "  </thead>\n",
       "  <tbody>\n",
       "    <tr>\n",
       "      <th>0</th>\n",
       "      <td>CustomerID</td>\n",
       "      <td>object</td>\n",
       "      <td>[0378-TOVMS, 0376-YMCJC, 8938-UMKPI, 4439-JMPM...</td>\n",
       "      <td>5000</td>\n",
       "    </tr>\n",
       "    <tr>\n",
       "      <th>1</th>\n",
       "      <td>Count</td>\n",
       "      <td>int64</td>\n",
       "      <td>[1]</td>\n",
       "      <td>1</td>\n",
       "    </tr>\n",
       "    <tr>\n",
       "      <th>2</th>\n",
       "      <td>Country</td>\n",
       "      <td>object</td>\n",
       "      <td>[United States]</td>\n",
       "      <td>1</td>\n",
       "    </tr>\n",
       "    <tr>\n",
       "      <th>3</th>\n",
       "      <td>State</td>\n",
       "      <td>object</td>\n",
       "      <td>[California]</td>\n",
       "      <td>1</td>\n",
       "    </tr>\n",
       "    <tr>\n",
       "      <th>4</th>\n",
       "      <td>City</td>\n",
       "      <td>object</td>\n",
       "      <td>[Vernalis, Novato, Corona, Comptche, San Diego]</td>\n",
       "      <td>1121</td>\n",
       "    </tr>\n",
       "    <tr>\n",
       "      <th>5</th>\n",
       "      <td>Zip_Code</td>\n",
       "      <td>int64</td>\n",
       "      <td>[95385, 94949, 92882, 95427, 92129]</td>\n",
       "      <td>1640</td>\n",
       "    </tr>\n",
       "    <tr>\n",
       "      <th>6</th>\n",
       "      <td>Lat_Long</td>\n",
       "      <td>object</td>\n",
       "      <td>[37.609095, -121.263381, 38.067204, -122.52400...</td>\n",
       "      <td>1640</td>\n",
       "    </tr>\n",
       "    <tr>\n",
       "      <th>7</th>\n",
       "      <td>Latitude</td>\n",
       "      <td>float64</td>\n",
       "      <td>[37.609095, 38.067204, 33.819385, 39.239818, 3...</td>\n",
       "      <td>1640</td>\n",
       "    </tr>\n",
       "    <tr>\n",
       "      <th>8</th>\n",
       "      <td>Longitude</td>\n",
       "      <td>float64</td>\n",
       "      <td>[-121.263381, -122.524004, -117.600213, -123.5...</td>\n",
       "      <td>1639</td>\n",
       "    </tr>\n",
       "    <tr>\n",
       "      <th>9</th>\n",
       "      <td>Gender</td>\n",
       "      <td>object</td>\n",
       "      <td>[Female, Male]</td>\n",
       "      <td>2</td>\n",
       "    </tr>\n",
       "    <tr>\n",
       "      <th>10</th>\n",
       "      <td>Senior_Citizen</td>\n",
       "      <td>object</td>\n",
       "      <td>[No, Yes]</td>\n",
       "      <td>2</td>\n",
       "    </tr>\n",
       "    <tr>\n",
       "      <th>11</th>\n",
       "      <td>Partner</td>\n",
       "      <td>object</td>\n",
       "      <td>[No, Yes]</td>\n",
       "      <td>2</td>\n",
       "    </tr>\n",
       "    <tr>\n",
       "      <th>12</th>\n",
       "      <td>Dependents</td>\n",
       "      <td>object</td>\n",
       "      <td>[No, Yes]</td>\n",
       "      <td>2</td>\n",
       "    </tr>\n",
       "    <tr>\n",
       "      <th>13</th>\n",
       "      <td>Tenure_Months</td>\n",
       "      <td>int64</td>\n",
       "      <td>[3, 23, 47, 5, 25]</td>\n",
       "      <td>73</td>\n",
       "    </tr>\n",
       "    <tr>\n",
       "      <th>14</th>\n",
       "      <td>Phone_Service</td>\n",
       "      <td>object</td>\n",
       "      <td>[Yes, No]</td>\n",
       "      <td>2</td>\n",
       "    </tr>\n",
       "    <tr>\n",
       "      <th>15</th>\n",
       "      <td>Multiple_Lines</td>\n",
       "      <td>object</td>\n",
       "      <td>[No, Yes, No phone service]</td>\n",
       "      <td>3</td>\n",
       "    </tr>\n",
       "    <tr>\n",
       "      <th>16</th>\n",
       "      <td>Internet_Service</td>\n",
       "      <td>object</td>\n",
       "      <td>[Fiber optic, DSL, No]</td>\n",
       "      <td>3</td>\n",
       "    </tr>\n",
       "    <tr>\n",
       "      <th>17</th>\n",
       "      <td>Online_Security</td>\n",
       "      <td>object</td>\n",
       "      <td>[No, Yes, No internet service]</td>\n",
       "      <td>3</td>\n",
       "    </tr>\n",
       "    <tr>\n",
       "      <th>18</th>\n",
       "      <td>Online_Backup</td>\n",
       "      <td>object</td>\n",
       "      <td>[No, Yes, No internet service]</td>\n",
       "      <td>3</td>\n",
       "    </tr>\n",
       "    <tr>\n",
       "      <th>19</th>\n",
       "      <td>Device_Protection</td>\n",
       "      <td>object</td>\n",
       "      <td>[No, Yes, No internet service]</td>\n",
       "      <td>3</td>\n",
       "    </tr>\n",
       "    <tr>\n",
       "      <th>20</th>\n",
       "      <td>Tech_Support</td>\n",
       "      <td>object</td>\n",
       "      <td>[Yes, No, No internet service]</td>\n",
       "      <td>3</td>\n",
       "    </tr>\n",
       "    <tr>\n",
       "      <th>21</th>\n",
       "      <td>Streaming_TV</td>\n",
       "      <td>object</td>\n",
       "      <td>[No, Yes, No internet service]</td>\n",
       "      <td>3</td>\n",
       "    </tr>\n",
       "    <tr>\n",
       "      <th>22</th>\n",
       "      <td>Streaming_Movies</td>\n",
       "      <td>object</td>\n",
       "      <td>[Yes, No, No internet service]</td>\n",
       "      <td>3</td>\n",
       "    </tr>\n",
       "    <tr>\n",
       "      <th>23</th>\n",
       "      <td>Contract</td>\n",
       "      <td>object</td>\n",
       "      <td>[Month-to-month, One year, Two year]</td>\n",
       "      <td>3</td>\n",
       "    </tr>\n",
       "    <tr>\n",
       "      <th>24</th>\n",
       "      <td>Paperless_Billing</td>\n",
       "      <td>object</td>\n",
       "      <td>[No, Yes]</td>\n",
       "      <td>2</td>\n",
       "    </tr>\n",
       "    <tr>\n",
       "      <th>25</th>\n",
       "      <td>Payment_Method</td>\n",
       "      <td>object</td>\n",
       "      <td>[Electronic check, Bank transfer (automatic), ...</td>\n",
       "      <td>4</td>\n",
       "    </tr>\n",
       "    <tr>\n",
       "      <th>26</th>\n",
       "      <td>Monthly_Charges</td>\n",
       "      <td>float64</td>\n",
       "      <td>[85.8, 90.6, 106.4, 85.75, 104.95]</td>\n",
       "      <td>1446</td>\n",
       "    </tr>\n",
       "    <tr>\n",
       "      <th>27</th>\n",
       "      <td>Total_Charges</td>\n",
       "      <td>object</td>\n",
       "      <td>[272.2, 1943.2, 5127.95, 470.95, 2566.5]</td>\n",
       "      <td>4720</td>\n",
       "    </tr>\n",
       "    <tr>\n",
       "      <th>28</th>\n",
       "      <td>Churn_Value</td>\n",
       "      <td>int64</td>\n",
       "      <td>[1, 0]</td>\n",
       "      <td>2</td>\n",
       "    </tr>\n",
       "    <tr>\n",
       "      <th>29</th>\n",
       "      <td>CLTV</td>\n",
       "      <td>int64</td>\n",
       "      <td>[5641, 4359, 4804, 3608, 3642]</td>\n",
       "      <td>2929</td>\n",
       "    </tr>\n",
       "  </tbody>\n",
       "</table>\n",
       "</div>"
      ],
      "text/plain": [
       "               Column   d_type  \\\n",
       "0          CustomerID   object   \n",
       "1               Count    int64   \n",
       "2             Country   object   \n",
       "3               State   object   \n",
       "4                City   object   \n",
       "5            Zip_Code    int64   \n",
       "6            Lat_Long   object   \n",
       "7            Latitude  float64   \n",
       "8           Longitude  float64   \n",
       "9              Gender   object   \n",
       "10     Senior_Citizen   object   \n",
       "11            Partner   object   \n",
       "12         Dependents   object   \n",
       "13      Tenure_Months    int64   \n",
       "14      Phone_Service   object   \n",
       "15     Multiple_Lines   object   \n",
       "16   Internet_Service   object   \n",
       "17    Online_Security   object   \n",
       "18      Online_Backup   object   \n",
       "19  Device_Protection   object   \n",
       "20       Tech_Support   object   \n",
       "21       Streaming_TV   object   \n",
       "22   Streaming_Movies   object   \n",
       "23           Contract   object   \n",
       "24  Paperless_Billing   object   \n",
       "25     Payment_Method   object   \n",
       "26    Monthly_Charges  float64   \n",
       "27      Total_Charges   object   \n",
       "28        Churn_Value    int64   \n",
       "29               CLTV    int64   \n",
       "\n",
       "                                        unique_sample  n_uniques  \n",
       "0   [0378-TOVMS, 0376-YMCJC, 8938-UMKPI, 4439-JMPM...       5000  \n",
       "1                                                 [1]          1  \n",
       "2                                     [United States]          1  \n",
       "3                                        [California]          1  \n",
       "4     [Vernalis, Novato, Corona, Comptche, San Diego]       1121  \n",
       "5                 [95385, 94949, 92882, 95427, 92129]       1640  \n",
       "6   [37.609095, -121.263381, 38.067204, -122.52400...       1640  \n",
       "7   [37.609095, 38.067204, 33.819385, 39.239818, 3...       1640  \n",
       "8   [-121.263381, -122.524004, -117.600213, -123.5...       1639  \n",
       "9                                      [Female, Male]          2  \n",
       "10                                          [No, Yes]          2  \n",
       "11                                          [No, Yes]          2  \n",
       "12                                          [No, Yes]          2  \n",
       "13                                 [3, 23, 47, 5, 25]         73  \n",
       "14                                          [Yes, No]          2  \n",
       "15                        [No, Yes, No phone service]          3  \n",
       "16                             [Fiber optic, DSL, No]          3  \n",
       "17                     [No, Yes, No internet service]          3  \n",
       "18                     [No, Yes, No internet service]          3  \n",
       "19                     [No, Yes, No internet service]          3  \n",
       "20                     [Yes, No, No internet service]          3  \n",
       "21                     [No, Yes, No internet service]          3  \n",
       "22                     [Yes, No, No internet service]          3  \n",
       "23               [Month-to-month, One year, Two year]          3  \n",
       "24                                          [No, Yes]          2  \n",
       "25  [Electronic check, Bank transfer (automatic), ...          4  \n",
       "26                 [85.8, 90.6, 106.4, 85.75, 104.95]       1446  \n",
       "27           [272.2, 1943.2, 5127.95, 470.95, 2566.5]       4720  \n",
       "28                                             [1, 0]          2  \n",
       "29                     [5641, 4359, 4804, 3608, 3642]       2929  "
      ]
     },
     "execution_count": 5,
     "metadata": {},
     "output_type": "execute_result"
    }
   ],
   "source": [
    "report(churn_df)"
   ]
  },
  {
   "cell_type": "markdown",
   "id": "e3ddefa0-10f8-46d3-8bae-6af50f6506f6",
   "metadata": {},
   "source": [
    "### Do some EDA to determine your preferred five predictors with which to build a simple DT ML model to predict customer churn"
   ]
  },
  {
   "cell_type": "code",
   "execution_count": 6,
   "id": "646a35c5-456c-43c8-b2e8-0c24ae193050",
   "metadata": {},
   "outputs": [
    {
     "data": {
      "text/plain": [
       "No     4183\n",
       "Yes     817\n",
       "Name: Senior_Citizen, dtype: int64"
      ]
     },
     "execution_count": 6,
     "metadata": {},
     "output_type": "execute_result"
    }
   ],
   "source": [
    "senior_counts = churn_df.Senior_Citizen.value_counts()\n",
    "senior_counts"
   ]
  },
  {
   "cell_type": "code",
   "execution_count": 7,
   "id": "b512c977-3aaf-4f5e-a74d-3544ce516bce",
   "metadata": {},
   "outputs": [
    {
     "data": {
      "image/png": "[encoded data removed]",
      "text/plain": [
       "<Figure size 504x288 with 1 Axes>"
      ]
     },
     "metadata": {
      "needs_background": "light"
     },
     "output_type": "display_data"
    }
   ],
   "source": [
    "fig, ax = plt.subplots(figsize=(7,4))\n",
    "\n",
    "ax.set_ylabel(\"Number of Seniors\")\n",
    "ax.set_xlabel(\"Senior or Not\")\n",
    "ax.set_title(\"Senior Frequency\")\n",
    "ax.bar(senior_counts.index, senior_counts, color=[\"C0\"]);"
   ]
  },
  {
   "cell_type": "code",
   "execution_count": 8,
   "id": "a3be116b-9763-44cc-8204-a39d1232f253",
   "metadata": {},
   "outputs": [
    {
     "data": {
      "text/plain": [
       "Month-to-month    2768\n",
       "Two year          1186\n",
       "One year          1046\n",
       "Name: Contract, dtype: int64"
      ]
     },
     "execution_count": 8,
     "metadata": {},
     "output_type": "execute_result"
    }
   ],
   "source": [
    "contract_counts = churn_df.Contract.value_counts()\n",
    "contract_counts"
   ]
  },
  {
   "cell_type": "code",
   "execution_count": 9,
   "id": "d70b5bda-4b95-41ba-8755-f916c082c7a1",
   "metadata": {},
   "outputs": [
    {
     "data": {
      "image/png": "[encoded data removed]",
      "text/plain": [
       "<Figure size 504x288 with 1 Axes>"
      ]
     },
     "metadata": {
      "needs_background": "light"
     },
     "output_type": "display_data"
    }
   ],
   "source": [
    "fig, ax = plt.subplots(figsize=(7,4))\n",
    "\n",
    "ax.set_ylabel(\"Number of Contracts\")\n",
    "ax.set_xlabel(\"Contract Type\")\n",
    "ax.set_title(\"Contract Frequency\")\n",
    "ax.bar(contract_counts.index, contract_counts, color=[\"C0\"]);"
   ]
  },
  {
   "cell_type": "code",
   "execution_count": 10,
   "id": "b86d24c5-0a95-43f4-91dc-9b43da388955",
   "metadata": {},
   "outputs": [
    {
     "data": {
      "image/png": "[encoded data removed]",
      "text/plain": [
       "<Figure size 720x288 with 1 Axes>"
      ]
     },
     "metadata": {
      "needs_background": "light"
     },
     "output_type": "display_data"
    }
   ],
   "source": [
    "fig, ax = plt.subplots(figsize=(10,4))\n",
    "\n",
    "ax.set_ylabel(\"Frequence\")\n",
    "ax.set_xlabel(\"Tenure Months\")\n",
    "ax.set_title(\"Tenure Months Histogram\")\n",
    "ax.hist(churn_df.Tenure_Months, bins=30, color=\"C1\");"
   ]
  },
  {
   "cell_type": "code",
   "execution_count": 11,
   "id": "f5ff1c28-7499-4025-8151-072e7b037a64",
   "metadata": {},
   "outputs": [
    {
     "data": {
      "text/plain": [
       "-0.3611694172514247"
      ]
     },
     "execution_count": 11,
     "metadata": {},
     "output_type": "execute_result"
    }
   ],
   "source": [
    "churn_df.Tenure_Months.corr(churn_df.Churn_Value)"
   ]
  },
  {
   "cell_type": "code",
   "execution_count": 12,
   "id": "c4cd3cf8-fad0-452c-96e8-8693fd74b45f",
   "metadata": {},
   "outputs": [
    {
     "data": {
      "image/png": "[encoded data removed]",
      "text/plain": [
       "<Figure size 720x288 with 1 Axes>"
      ]
     },
     "metadata": {
      "needs_background": "light"
     },
     "output_type": "display_data"
    }
   ],
   "source": [
    "fig, ax = plt.subplots(figsize=(10,4))\n",
    "\n",
    "ax.set_ylabel(\"Frequence\")\n",
    "ax.set_xlabel(\"Monthly Charges\")\n",
    "ax.set_title(\"Monthly Charges Histogram\")\n",
    "ax.hist(churn_df.Monthly_Charges, bins=30, color=\"C1\");"
   ]
  },
  {
   "cell_type": "code",
   "execution_count": 13,
   "id": "2378851f-7c9d-4a5c-bff4-e442490baa3b",
   "metadata": {},
   "outputs": [
    {
     "data": {
      "text/plain": [
       "0.19828752555678536"
      ]
     },
     "execution_count": 13,
     "metadata": {},
     "output_type": "execute_result"
    }
   ],
   "source": [
    "churn_df.Monthly_Charges.corr(churn_df.Churn_Value)"
   ]
  },
  {
   "cell_type": "code",
   "execution_count": 14,
   "id": "3081ad71-3648-42a8-aaaf-fc293a329f37",
   "metadata": {},
   "outputs": [
    {
     "data": {
      "image/png": "[encoded data removed]",
      "text/plain": [
       "<Figure size 720x288 with 1 Axes>"
      ]
     },
     "metadata": {
      "needs_background": "light"
     },
     "output_type": "display_data"
    }
   ],
   "source": [
    "fig, ax = plt.subplots(figsize=(10,4))\n",
    "\n",
    "ax.set_ylabel(\"Frequence\")\n",
    "ax.set_xlabel(\"CLTV\")\n",
    "ax.set_title(\"CLTV Histogram\")\n",
    "ax.hist(churn_df.CLTV, bins=30, color=\"C1\");"
   ]
  },
  {
   "cell_type": "code",
   "execution_count": 15,
   "id": "94312751-9bb2-42ef-91d3-d03ca97f30bd",
   "metadata": {},
   "outputs": [
    {
     "data": {
      "text/plain": [
       "-0.12713559861200388"
      ]
     },
     "execution_count": 15,
     "metadata": {},
     "output_type": "execute_result"
    }
   ],
   "source": [
    "churn_df.CLTV.corr(churn_df.Churn_Value)"
   ]
  },
  {
   "cell_type": "markdown",
   "id": "31ac4cee-d217-4eaa-9b55-d3f115641dcc",
   "metadata": {},
   "source": [
    "### Create a dataframe, named X, of only those fields"
   ]
  },
  {
   "cell_type": "code",
   "execution_count": 16,
   "id": "07e196b4-1b12-41a7-8fb6-cee009b2b3f0",
   "metadata": {},
   "outputs": [
    {
     "data": {
      "text/html": [
       "<div>\n",
       "<style scoped>\n",
       "    .dataframe tbody tr th:only-of-type {\n",
       "        vertical-align: middle;\n",
       "    }\n",
       "\n",
       "    .dataframe tbody tr th {\n",
       "        vertical-align: top;\n",
       "    }\n",
       "\n",
       "    .dataframe thead th {\n",
       "        text-align: right;\n",
       "    }\n",
       "</style>\n",
       "<table border=\"1\" class=\"dataframe\">\n",
       "  <thead>\n",
       "    <tr style=\"text-align: right;\">\n",
       "      <th></th>\n",
       "      <th>Senior_Citizen</th>\n",
       "      <th>Tenure_Months</th>\n",
       "      <th>Contract</th>\n",
       "      <th>Monthly_Charges</th>\n",
       "      <th>CLTV</th>\n",
       "    </tr>\n",
       "  </thead>\n",
       "  <tbody>\n",
       "    <tr>\n",
       "      <th>0</th>\n",
       "      <td>No</td>\n",
       "      <td>3</td>\n",
       "      <td>Month-to-month</td>\n",
       "      <td>85.80</td>\n",
       "      <td>5641</td>\n",
       "    </tr>\n",
       "    <tr>\n",
       "      <th>1</th>\n",
       "      <td>No</td>\n",
       "      <td>23</td>\n",
       "      <td>Month-to-month</td>\n",
       "      <td>90.60</td>\n",
       "      <td>4359</td>\n",
       "    </tr>\n",
       "    <tr>\n",
       "      <th>2</th>\n",
       "      <td>No</td>\n",
       "      <td>47</td>\n",
       "      <td>Month-to-month</td>\n",
       "      <td>106.40</td>\n",
       "      <td>4804</td>\n",
       "    </tr>\n",
       "    <tr>\n",
       "      <th>3</th>\n",
       "      <td>No</td>\n",
       "      <td>5</td>\n",
       "      <td>Month-to-month</td>\n",
       "      <td>85.75</td>\n",
       "      <td>3608</td>\n",
       "    </tr>\n",
       "    <tr>\n",
       "      <th>4</th>\n",
       "      <td>No</td>\n",
       "      <td>25</td>\n",
       "      <td>Month-to-month</td>\n",
       "      <td>104.95</td>\n",
       "      <td>3642</td>\n",
       "    </tr>\n",
       "    <tr>\n",
       "      <th>...</th>\n",
       "      <td>...</td>\n",
       "      <td>...</td>\n",
       "      <td>...</td>\n",
       "      <td>...</td>\n",
       "      <td>...</td>\n",
       "    </tr>\n",
       "    <tr>\n",
       "      <th>4995</th>\n",
       "      <td>Yes</td>\n",
       "      <td>72</td>\n",
       "      <td>Two year</td>\n",
       "      <td>117.35</td>\n",
       "      <td>4008</td>\n",
       "    </tr>\n",
       "    <tr>\n",
       "      <th>4996</th>\n",
       "      <td>Yes</td>\n",
       "      <td>4</td>\n",
       "      <td>Month-to-month</td>\n",
       "      <td>50.95</td>\n",
       "      <td>2104</td>\n",
       "    </tr>\n",
       "    <tr>\n",
       "      <th>4997</th>\n",
       "      <td>No</td>\n",
       "      <td>1</td>\n",
       "      <td>Month-to-month</td>\n",
       "      <td>35.05</td>\n",
       "      <td>3706</td>\n",
       "    </tr>\n",
       "    <tr>\n",
       "      <th>4998</th>\n",
       "      <td>No</td>\n",
       "      <td>58</td>\n",
       "      <td>Two year</td>\n",
       "      <td>24.35</td>\n",
       "      <td>6190</td>\n",
       "    </tr>\n",
       "    <tr>\n",
       "      <th>4999</th>\n",
       "      <td>No</td>\n",
       "      <td>5</td>\n",
       "      <td>Month-to-month</td>\n",
       "      <td>53.80</td>\n",
       "      <td>2182</td>\n",
       "    </tr>\n",
       "  </tbody>\n",
       "</table>\n",
       "<p>5000 rows × 5 columns</p>\n",
       "</div>"
      ],
      "text/plain": [
       "     Senior_Citizen  Tenure_Months        Contract  Monthly_Charges  CLTV\n",
       "0                No              3  Month-to-month            85.80  5641\n",
       "1                No             23  Month-to-month            90.60  4359\n",
       "2                No             47  Month-to-month           106.40  4804\n",
       "3                No              5  Month-to-month            85.75  3608\n",
       "4                No             25  Month-to-month           104.95  3642\n",
       "...             ...            ...             ...              ...   ...\n",
       "4995            Yes             72        Two year           117.35  4008\n",
       "4996            Yes              4  Month-to-month            50.95  2104\n",
       "4997             No              1  Month-to-month            35.05  3706\n",
       "4998             No             58        Two year            24.35  6190\n",
       "4999             No              5  Month-to-month            53.80  2182\n",
       "\n",
       "[5000 rows x 5 columns]"
      ]
     },
     "execution_count": 16,
     "metadata": {},
     "output_type": "execute_result"
    }
   ],
   "source": [
    "X_df = churn_df[['Senior_Citizen','Tenure_Months','Contract','Monthly_Charges','CLTV']]\n",
    "X_df"
   ]
  },
  {
   "cell_type": "markdown",
   "id": "9046acf4-3f2a-42be-a2db-b12f911706b4",
   "metadata": {},
   "source": [
    "#### Create Dummy Variables for categorical variables in X_df and clean the data set"
   ]
  },
  {
   "cell_type": "code",
   "execution_count": 17,
   "id": "e3d75acb-26e0-4885-8267-947227ec967e",
   "metadata": {},
   "outputs": [
    {
     "data": {
      "text/plain": [
       "Index(['Tenure_Months', 'Monthly_Charges', 'CLTV', 'Senior_Citizen_Yes',\n",
       "       'Contract_One year', 'Contract_Two year'],\n",
       "      dtype='object')"
      ]
     },
     "execution_count": 17,
     "metadata": {},
     "output_type": "execute_result"
    }
   ],
   "source": [
    "X_df = pd.get_dummies(X_df, prefix_sep='_', drop_first=True)\n",
    "X_df.columns"
   ]
  },
  {
   "cell_type": "code",
   "execution_count": 18,
   "id": "f5a7be53-eab6-4a12-8937-53abb980361f",
   "metadata": {},
   "outputs": [
    {
     "data": {
      "text/html": [
       "<div>\n",
       "<style scoped>\n",
       "    .dataframe tbody tr th:only-of-type {\n",
       "        vertical-align: middle;\n",
       "    }\n",
       "\n",
       "    .dataframe tbody tr th {\n",
       "        vertical-align: top;\n",
       "    }\n",
       "\n",
       "    .dataframe thead th {\n",
       "        text-align: right;\n",
       "    }\n",
       "</style>\n",
       "<table border=\"1\" class=\"dataframe\">\n",
       "  <thead>\n",
       "    <tr style=\"text-align: right;\">\n",
       "      <th></th>\n",
       "      <th>Tenure_Months</th>\n",
       "      <th>Monthly_Charges</th>\n",
       "      <th>CLTV</th>\n",
       "      <th>Senior_Citizen_Yes</th>\n",
       "      <th>Contract_One_year</th>\n",
       "      <th>Contract_Two_year</th>\n",
       "    </tr>\n",
       "  </thead>\n",
       "  <tbody>\n",
       "    <tr>\n",
       "      <th>0</th>\n",
       "      <td>3</td>\n",
       "      <td>85.80</td>\n",
       "      <td>5641</td>\n",
       "      <td>0</td>\n",
       "      <td>0</td>\n",
       "      <td>0</td>\n",
       "    </tr>\n",
       "    <tr>\n",
       "      <th>1</th>\n",
       "      <td>23</td>\n",
       "      <td>90.60</td>\n",
       "      <td>4359</td>\n",
       "      <td>0</td>\n",
       "      <td>0</td>\n",
       "      <td>0</td>\n",
       "    </tr>\n",
       "    <tr>\n",
       "      <th>2</th>\n",
       "      <td>47</td>\n",
       "      <td>106.40</td>\n",
       "      <td>4804</td>\n",
       "      <td>0</td>\n",
       "      <td>0</td>\n",
       "      <td>0</td>\n",
       "    </tr>\n",
       "    <tr>\n",
       "      <th>3</th>\n",
       "      <td>5</td>\n",
       "      <td>85.75</td>\n",
       "      <td>3608</td>\n",
       "      <td>0</td>\n",
       "      <td>0</td>\n",
       "      <td>0</td>\n",
       "    </tr>\n",
       "    <tr>\n",
       "      <th>4</th>\n",
       "      <td>25</td>\n",
       "      <td>104.95</td>\n",
       "      <td>3642</td>\n",
       "      <td>0</td>\n",
       "      <td>0</td>\n",
       "      <td>0</td>\n",
       "    </tr>\n",
       "    <tr>\n",
       "      <th>...</th>\n",
       "      <td>...</td>\n",
       "      <td>...</td>\n",
       "      <td>...</td>\n",
       "      <td>...</td>\n",
       "      <td>...</td>\n",
       "      <td>...</td>\n",
       "    </tr>\n",
       "    <tr>\n",
       "      <th>4995</th>\n",
       "      <td>72</td>\n",
       "      <td>117.35</td>\n",
       "      <td>4008</td>\n",
       "      <td>1</td>\n",
       "      <td>0</td>\n",
       "      <td>1</td>\n",
       "    </tr>\n",
       "    <tr>\n",
       "      <th>4996</th>\n",
       "      <td>4</td>\n",
       "      <td>50.95</td>\n",
       "      <td>2104</td>\n",
       "      <td>1</td>\n",
       "      <td>0</td>\n",
       "      <td>0</td>\n",
       "    </tr>\n",
       "    <tr>\n",
       "      <th>4997</th>\n",
       "      <td>1</td>\n",
       "      <td>35.05</td>\n",
       "      <td>3706</td>\n",
       "      <td>0</td>\n",
       "      <td>0</td>\n",
       "      <td>0</td>\n",
       "    </tr>\n",
       "    <tr>\n",
       "      <th>4998</th>\n",
       "      <td>58</td>\n",
       "      <td>24.35</td>\n",
       "      <td>6190</td>\n",
       "      <td>0</td>\n",
       "      <td>0</td>\n",
       "      <td>1</td>\n",
       "    </tr>\n",
       "    <tr>\n",
       "      <th>4999</th>\n",
       "      <td>5</td>\n",
       "      <td>53.80</td>\n",
       "      <td>2182</td>\n",
       "      <td>0</td>\n",
       "      <td>0</td>\n",
       "      <td>0</td>\n",
       "    </tr>\n",
       "  </tbody>\n",
       "</table>\n",
       "<p>5000 rows × 6 columns</p>\n",
       "</div>"
      ],
      "text/plain": [
       "      Tenure_Months  Monthly_Charges  CLTV  Senior_Citizen_Yes  \\\n",
       "0                 3            85.80  5641                   0   \n",
       "1                23            90.60  4359                   0   \n",
       "2                47           106.40  4804                   0   \n",
       "3                 5            85.75  3608                   0   \n",
       "4                25           104.95  3642                   0   \n",
       "...             ...              ...   ...                 ...   \n",
       "4995             72           117.35  4008                   1   \n",
       "4996              4            50.95  2104                   1   \n",
       "4997              1            35.05  3706                   0   \n",
       "4998             58            24.35  6190                   0   \n",
       "4999              5            53.80  2182                   0   \n",
       "\n",
       "      Contract_One_year  Contract_Two_year  \n",
       "0                     0                  0  \n",
       "1                     0                  0  \n",
       "2                     0                  0  \n",
       "3                     0                  0  \n",
       "4                     0                  0  \n",
       "...                 ...                ...  \n",
       "4995                  0                  1  \n",
       "4996                  0                  0  \n",
       "4997                  0                  0  \n",
       "4998                  0                  1  \n",
       "4999                  0                  0  \n",
       "\n",
       "[5000 rows x 6 columns]"
      ]
     },
     "execution_count": 18,
     "metadata": {},
     "output_type": "execute_result"
    }
   ],
   "source": [
    "X_df.columns = [s.strip().replace(' ', '_') for s in X_df.columns]\n",
    "X_df"
   ]
  },
  {
   "cell_type": "markdown",
   "id": "f02bd38f-f04f-4ce5-a8f0-7506936d823d",
   "metadata": {},
   "source": [
    "List your (up to five) potential predictors and your analytically supported reasoning for choosing them:\n",
    "\n",
    "1. senior citizen\n",
    "2. tenure months\n",
    "3. contract\n",
    "4. monthly charge\n",
    "5. CLTV"
   ]
  },
  {
   "cell_type": "markdown",
   "id": "33a74dec-1161-4074-bf26-0aae983610ad",
   "metadata": {},
   "source": [
    "#### Create a dataframe, named y, of only the Churn Value field (our target)"
   ]
  },
  {
   "cell_type": "code",
   "execution_count": 19,
   "id": "eb13907b-d414-454a-87c1-7d9e5074d9f7",
   "metadata": {},
   "outputs": [
    {
     "data": {
      "text/plain": [
       "0       1\n",
       "1       1\n",
       "2       1\n",
       "3       1\n",
       "4       1\n",
       "       ..\n",
       "4995    0\n",
       "4996    0\n",
       "4997    1\n",
       "4998    0\n",
       "4999    0\n",
       "Name: Churn_Value, Length: 5000, dtype: int64"
      ]
     },
     "execution_count": 19,
     "metadata": {},
     "output_type": "execute_result"
    }
   ],
   "source": [
    "y_df = churn_df['Churn_Value']\n",
    "y_df"
   ]
  },
  {
   "cell_type": "markdown",
   "id": "514f93ea-615c-4997-80b0-4d6dcc81e04d",
   "metadata": {},
   "source": [
    "### Using a random_state=1, partition your X and y, into 3000 training records (named train_X, train_y) and the remainder in (valid_X, valid_y). (I have 2000 other customers that I held out to check also!)"
   ]
  },
  {
   "cell_type": "code",
   "execution_count": 20,
   "id": "51ccc255-b6e2-439b-9c6e-77c41342171a",
   "metadata": {},
   "outputs": [
    {
     "name": "stdout",
     "output_type": "stream",
     "text": [
      "(3000, 6) (3000,) (2000, 6) (2000,)\n"
     ]
    }
   ],
   "source": [
    "train_X, valid_X, train_y, valid_y = train_test_split(X_df,y_df,train_size=0.6,random_state=1)\n",
    "print(train_X.shape, train_y.shape, valid_X.shape,valid_y.shape)"
   ]
  },
  {
   "cell_type": "markdown",
   "id": "c1a90b0c-9a54-4e7b-86a6-d369f86c68ce",
   "metadata": {},
   "source": [
    "### Using your training data (train_X, train_y), create a decision tree classifier for customer churn."
   ]
  },
  {
   "cell_type": "code",
   "execution_count": 21,
   "id": "e62c1ce5-332e-4728-ae14-e4373246a62a",
   "metadata": {},
   "outputs": [
    {
     "data": {
      "text/plain": [
       "DecisionTreeClassifier(criterion='entropy', max_depth=10, min_samples_leaf=10,\n",
       "                       random_state=0)"
      ]
     },
     "execution_count": 21,
     "metadata": {},
     "output_type": "execute_result"
    }
   ],
   "source": [
    "classTree = DecisionTreeClassifier(criterion='entropy',random_state=0, max_depth=10, min_samples_leaf=10)\n",
    "classTree.fit(train_X, train_y)"
   ]
  },
  {
   "cell_type": "code",
   "execution_count": 22,
   "id": "bf452838-7c53-4b11-a78e-53d938c2e855",
   "metadata": {},
   "outputs": [
    {
     "data": {
      "image/png": "[encoded data removed]",
      "text/plain": [
       "<Figure size 1440x720 with 1 Axes>"
      ]
     },
     "metadata": {
      "needs_background": "light"
     },
     "output_type": "display_data"
    }
   ],
   "source": [
    "fig, ax = plt.subplots(figsize=(20, 10))\n",
    "plot_tree(classTree, filled=True,feature_names=train_X.columns.tolist(), proportion=False, rounded=True)\n",
    "plt.show()"
   ]
  },
  {
   "cell_type": "markdown",
   "id": "9e820e22-3f99-4018-90a7-2a2e4255e1d7",
   "metadata": {},
   "source": [
    "### Using your fit model, compute the churn prediction for each record and classify the record using the default cutoff of 0.5."
   ]
  },
  {
   "cell_type": "code",
   "execution_count": 23,
   "id": "1d40c7a2-6fb5-4a7a-b297-1d418c90373f",
   "metadata": {},
   "outputs": [
    {
     "data": {
      "text/html": [
       "<div>\n",
       "<style scoped>\n",
       "    .dataframe tbody tr th:only-of-type {\n",
       "        vertical-align: middle;\n",
       "    }\n",
       "\n",
       "    .dataframe tbody tr th {\n",
       "        vertical-align: top;\n",
       "    }\n",
       "\n",
       "    .dataframe thead th {\n",
       "        text-align: right;\n",
       "    }\n",
       "</style>\n",
       "<table border=\"1\" class=\"dataframe\">\n",
       "  <thead>\n",
       "    <tr style=\"text-align: right;\">\n",
       "      <th></th>\n",
       "      <th>Actual Class</th>\n",
       "      <th>p(Class = 0)</th>\n",
       "      <th>p(Class = 1)</th>\n",
       "    </tr>\n",
       "  </thead>\n",
       "  <tbody>\n",
       "    <tr>\n",
       "      <th>1148</th>\n",
       "      <td>1</td>\n",
       "      <td>0.105263</td>\n",
       "      <td>0.894737</td>\n",
       "    </tr>\n",
       "    <tr>\n",
       "      <th>3712</th>\n",
       "      <td>0</td>\n",
       "      <td>1.000000</td>\n",
       "      <td>0.000000</td>\n",
       "    </tr>\n",
       "    <tr>\n",
       "      <th>1295</th>\n",
       "      <td>1</td>\n",
       "      <td>0.000000</td>\n",
       "      <td>1.000000</td>\n",
       "    </tr>\n",
       "    <tr>\n",
       "      <th>2087</th>\n",
       "      <td>1</td>\n",
       "      <td>0.277778</td>\n",
       "      <td>0.722222</td>\n",
       "    </tr>\n",
       "    <tr>\n",
       "      <th>4117</th>\n",
       "      <td>0</td>\n",
       "      <td>0.900000</td>\n",
       "      <td>0.100000</td>\n",
       "    </tr>\n",
       "    <tr>\n",
       "      <th>4258</th>\n",
       "      <td>0</td>\n",
       "      <td>1.000000</td>\n",
       "      <td>0.000000</td>\n",
       "    </tr>\n",
       "    <tr>\n",
       "      <th>4516</th>\n",
       "      <td>0</td>\n",
       "      <td>0.600000</td>\n",
       "      <td>0.400000</td>\n",
       "    </tr>\n",
       "    <tr>\n",
       "      <th>1888</th>\n",
       "      <td>0</td>\n",
       "      <td>1.000000</td>\n",
       "      <td>0.000000</td>\n",
       "    </tr>\n",
       "    <tr>\n",
       "      <th>815</th>\n",
       "      <td>0</td>\n",
       "      <td>0.884058</td>\n",
       "      <td>0.115942</td>\n",
       "    </tr>\n",
       "    <tr>\n",
       "      <th>4445</th>\n",
       "      <td>0</td>\n",
       "      <td>0.609756</td>\n",
       "      <td>0.390244</td>\n",
       "    </tr>\n",
       "  </tbody>\n",
       "</table>\n",
       "</div>"
      ],
      "text/plain": [
       "      Actual Class  p(Class = 0)  p(Class = 1)\n",
       "1148             1      0.105263      0.894737\n",
       "3712             0      1.000000      0.000000\n",
       "1295             1      0.000000      1.000000\n",
       "2087             1      0.277778      0.722222\n",
       "4117             0      0.900000      0.100000\n",
       "4258             0      1.000000      0.000000\n",
       "4516             0      0.600000      0.400000\n",
       "1888             0      1.000000      0.000000\n",
       "815              0      0.884058      0.115942\n",
       "4445             0      0.609756      0.390244"
      ]
     },
     "execution_count": 23,
     "metadata": {},
     "output_type": "execute_result"
    }
   ],
   "source": [
    "dt_pred_proba = classTree.predict_proba(train_X)\n",
    "dt_result1 = pd.DataFrame({'Actual Class': train_y, \n",
    "                             'p(Class = 0)': [p[0] for p in dt_pred_proba],\n",
    "                             'p(Class = 1)': [p[1] for p in dt_pred_proba]})\n",
    "dt_result1.sample(10,random_state=27)"
   ]
  },
  {
   "cell_type": "code",
   "execution_count": 24,
   "id": "e73994dd-ccd6-4708-87a0-7f92c1669b4b",
   "metadata": {},
   "outputs": [
    {
     "data": {
      "text/html": [
       "<div>\n",
       "<style scoped>\n",
       "    .dataframe tbody tr th:only-of-type {\n",
       "        vertical-align: middle;\n",
       "    }\n",
       "\n",
       "    .dataframe tbody tr th {\n",
       "        vertical-align: top;\n",
       "    }\n",
       "\n",
       "    .dataframe thead th {\n",
       "        text-align: right;\n",
       "    }\n",
       "</style>\n",
       "<table border=\"1\" class=\"dataframe\">\n",
       "  <thead>\n",
       "    <tr style=\"text-align: right;\">\n",
       "      <th></th>\n",
       "      <th>Actual Class</th>\n",
       "      <th>p(Class = 0)</th>\n",
       "      <th>p(Class = 1)</th>\n",
       "      <th>Predicted Class (default 0.5 cutoff)</th>\n",
       "    </tr>\n",
       "  </thead>\n",
       "  <tbody>\n",
       "    <tr>\n",
       "      <th>4522</th>\n",
       "      <td>0</td>\n",
       "      <td>1.000000</td>\n",
       "      <td>0.000000</td>\n",
       "      <td>0</td>\n",
       "    </tr>\n",
       "    <tr>\n",
       "      <th>2851</th>\n",
       "      <td>1</td>\n",
       "      <td>0.500000</td>\n",
       "      <td>0.500000</td>\n",
       "      <td>0</td>\n",
       "    </tr>\n",
       "    <tr>\n",
       "      <th>2313</th>\n",
       "      <td>0</td>\n",
       "      <td>1.000000</td>\n",
       "      <td>0.000000</td>\n",
       "      <td>0</td>\n",
       "    </tr>\n",
       "    <tr>\n",
       "      <th>982</th>\n",
       "      <td>0</td>\n",
       "      <td>1.000000</td>\n",
       "      <td>0.000000</td>\n",
       "      <td>0</td>\n",
       "    </tr>\n",
       "    <tr>\n",
       "      <th>1164</th>\n",
       "      <td>0</td>\n",
       "      <td>0.571429</td>\n",
       "      <td>0.428571</td>\n",
       "      <td>0</td>\n",
       "    </tr>\n",
       "    <tr>\n",
       "      <th>1779</th>\n",
       "      <td>0</td>\n",
       "      <td>1.000000</td>\n",
       "      <td>0.000000</td>\n",
       "      <td>0</td>\n",
       "    </tr>\n",
       "    <tr>\n",
       "      <th>2146</th>\n",
       "      <td>0</td>\n",
       "      <td>0.852941</td>\n",
       "      <td>0.147059</td>\n",
       "      <td>0</td>\n",
       "    </tr>\n",
       "    <tr>\n",
       "      <th>4544</th>\n",
       "      <td>0</td>\n",
       "      <td>1.000000</td>\n",
       "      <td>0.000000</td>\n",
       "      <td>0</td>\n",
       "    </tr>\n",
       "    <tr>\n",
       "      <th>2363</th>\n",
       "      <td>0</td>\n",
       "      <td>0.900000</td>\n",
       "      <td>0.100000</td>\n",
       "      <td>0</td>\n",
       "    </tr>\n",
       "    <tr>\n",
       "      <th>1918</th>\n",
       "      <td>0</td>\n",
       "      <td>1.000000</td>\n",
       "      <td>0.000000</td>\n",
       "      <td>0</td>\n",
       "    </tr>\n",
       "  </tbody>\n",
       "</table>\n",
       "</div>"
      ],
      "text/plain": [
       "      Actual Class  p(Class = 0)  p(Class = 1)  \\\n",
       "4522             0      1.000000      0.000000   \n",
       "2851             1      0.500000      0.500000   \n",
       "2313             0      1.000000      0.000000   \n",
       "982              0      1.000000      0.000000   \n",
       "1164             0      0.571429      0.428571   \n",
       "1779             0      1.000000      0.000000   \n",
       "2146             0      0.852941      0.147059   \n",
       "4544             0      1.000000      0.000000   \n",
       "2363             0      0.900000      0.100000   \n",
       "1918             0      1.000000      0.000000   \n",
       "\n",
       "      Predicted Class (default 0.5 cutoff)  \n",
       "4522                                     0  \n",
       "2851                                     0  \n",
       "2313                                     0  \n",
       "982                                      0  \n",
       "1164                                     0  \n",
       "1779                                     0  \n",
       "2146                                     0  \n",
       "4544                                     0  \n",
       "2363                                     0  \n",
       "1918                                     0  "
      ]
     },
     "execution_count": 24,
     "metadata": {},
     "output_type": "execute_result"
    }
   ],
   "source": [
    "dt_pred = classTree.predict(train_X)\n",
    "dt_result2 = pd.DataFrame({'Actual Class': train_y, \n",
    "                             'p(Class = 0)': [p[0] for p in dt_pred_proba],\n",
    "                             'p(Class = 1)': [p[1] for p in dt_pred_proba],\n",
    "                          'Predicted Class (default 0.5 cutoff)': dt_pred })\n",
    "dt_result2.head(10)"
   ]
  },
  {
   "cell_type": "markdown",
   "id": "6467549f-db4e-418e-888a-5f20db8dd6aa",
   "metadata": {},
   "source": [
    "### Check the performance of you model using a confusion matrix, accuracy, error rate, TPR (Sensitivity, Recall), TNR (Specificity), FPR, Precision.\n"
   ]
  },
  {
   "cell_type": "code",
   "execution_count": 25,
   "id": "6c99e0c9-1df8-4068-b0e6-c236389fe8c3",
   "metadata": {},
   "outputs": [
    {
     "data": {
      "text/plain": [
       "array([0, 0, 0, ..., 1, 0, 0], dtype=int64)"
      ]
     },
     "execution_count": 25,
     "metadata": {},
     "output_type": "execute_result"
    }
   ],
   "source": [
    "dt_pred"
   ]
  },
  {
   "cell_type": "code",
   "execution_count": 26,
   "id": "a4c6132d-1820-41ab-80f7-cc0bb5071dce",
   "metadata": {},
   "outputs": [
    {
     "name": "stdout",
     "output_type": "stream",
     "text": [
      "[[2044  152]\n",
      " [ 349  455]]\n"
     ]
    },
    {
     "data": {
      "image/png": "[encoded data removed]",
      "text/plain": [
       "<Figure size 432x288 with 2 Axes>"
      ]
     },
     "metadata": {
      "needs_background": "light"
     },
     "output_type": "display_data"
    }
   ],
   "source": [
    "# Confusion Matrix from sklearn\n",
    "cm = confusion_matrix(train_y, dt_pred)\n",
    "print(cm)\n",
    "disp = ConfusionMatrixDisplay(cm)\n",
    "disp.plot();"
   ]
  },
  {
   "cell_type": "code",
   "execution_count": 27,
   "id": "3594bfcc-68df-4934-a12a-ff7815854d87",
   "metadata": {},
   "outputs": [
    {
     "name": "stdout",
     "output_type": "stream",
     "text": [
      "The accuracy as a percentege is 83.30%\n",
      "The sensitivity or true positive rate is 0.566\n",
      "The specificity or true negative rate is 0.931\n",
      "(1-Specificity) or false positive rate is 0.069\n",
      "The precision is 0.750\n",
      "The error rate is 0.167\n"
     ]
    }
   ],
   "source": [
    "TN = cm[0][0] #True negatives\n",
    "FP = cm[0][1] #False Positives\n",
    "FN = cm[1][0] #False Negatives\n",
    "TP = cm[1][1] #True Positives\n",
    "\n",
    "print(\"The accuracy as a percentege is {:.2f}%\".format(100*(TN+TP)/(TN+FN+TP+FP)))\n",
    "print(\"The sensitivity or true positive rate is {:.3f}\".format((TP)/(FN+TP)))\n",
    "print(\"The specificity or true negative rate is {:.3f}\".format((TN)/(TN+FP)))\n",
    "print(\"(1-Specificity) or false positive rate is {:.3f}\".format((FP)/(TN+FP)))\n",
    "print(\"The precision is {:.3f}\".format((TP)/(FP+TP)))\n",
    "print(\"The error rate is {:.3f}\".format((FN + FP)/(TN + FN + TP + FP )))"
   ]
  },
  {
   "cell_type": "markdown",
   "id": "d3b2ce2a-7913-4c32-85af-3f756547046a",
   "metadata": {},
   "source": [
    "### Check the performance using the ROC and AUC for the training and validation data"
   ]
  },
  {
   "cell_type": "code",
   "execution_count": 28,
   "id": "19408ef9-2d06-416e-a3f0-3c4d56469145",
   "metadata": {},
   "outputs": [
    {
     "data": {
      "text/plain": [
       "0.9017531876138434"
      ]
     },
     "execution_count": 28,
     "metadata": {},
     "output_type": "execute_result"
    }
   ],
   "source": [
    "# The ‘roc_auc_score(true_y, predict_prob_y)’ function will compute the area under the curve for your directly. Use only the target class probabilities.\n",
    "roc_auc_score(train_y, dt_pred_proba[:,1])"
   ]
  },
  {
   "cell_type": "markdown",
   "id": "cc898c0b-9957-495d-809b-48bdf89255e5",
   "metadata": {},
   "source": [
    "### OK, this looks like decent accuracy. How will this model perform with new data?\n",
    "### Check for model bias: Now, apply your model to your holdout validation data (valid_X) and compare the performance metrics (using valid_y). \n"
   ]
  },
  {
   "cell_type": "code",
   "execution_count": 29,
   "id": "1d4e0ed7-83b8-4d02-a352-0b589c434eab",
   "metadata": {},
   "outputs": [
    {
     "data": {
      "text/html": [
       "<div>\n",
       "<style scoped>\n",
       "    .dataframe tbody tr th:only-of-type {\n",
       "        vertical-align: middle;\n",
       "    }\n",
       "\n",
       "    .dataframe tbody tr th {\n",
       "        vertical-align: top;\n",
       "    }\n",
       "\n",
       "    .dataframe thead th {\n",
       "        text-align: right;\n",
       "    }\n",
       "</style>\n",
       "<table border=\"1\" class=\"dataframe\">\n",
       "  <thead>\n",
       "    <tr style=\"text-align: right;\">\n",
       "      <th></th>\n",
       "      <th>Tenure_Months</th>\n",
       "      <th>Monthly_Charges</th>\n",
       "      <th>CLTV</th>\n",
       "      <th>Senior_Citizen_Yes</th>\n",
       "      <th>Contract_One_year</th>\n",
       "      <th>Contract_Two_year</th>\n",
       "    </tr>\n",
       "  </thead>\n",
       "  <tbody>\n",
       "    <tr>\n",
       "      <th>2764</th>\n",
       "      <td>24</td>\n",
       "      <td>49.70</td>\n",
       "      <td>2911</td>\n",
       "      <td>0</td>\n",
       "      <td>0</td>\n",
       "      <td>0</td>\n",
       "    </tr>\n",
       "    <tr>\n",
       "      <th>4767</th>\n",
       "      <td>68</td>\n",
       "      <td>110.00</td>\n",
       "      <td>5034</td>\n",
       "      <td>0</td>\n",
       "      <td>0</td>\n",
       "      <td>1</td>\n",
       "    </tr>\n",
       "    <tr>\n",
       "      <th>3814</th>\n",
       "      <td>1</td>\n",
       "      <td>79.20</td>\n",
       "      <td>4363</td>\n",
       "      <td>1</td>\n",
       "      <td>0</td>\n",
       "      <td>0</td>\n",
       "    </tr>\n",
       "    <tr>\n",
       "      <th>3499</th>\n",
       "      <td>1</td>\n",
       "      <td>45.85</td>\n",
       "      <td>3706</td>\n",
       "      <td>0</td>\n",
       "      <td>0</td>\n",
       "      <td>0</td>\n",
       "    </tr>\n",
       "    <tr>\n",
       "      <th>2735</th>\n",
       "      <td>3</td>\n",
       "      <td>75.30</td>\n",
       "      <td>5387</td>\n",
       "      <td>0</td>\n",
       "      <td>0</td>\n",
       "      <td>0</td>\n",
       "    </tr>\n",
       "  </tbody>\n",
       "</table>\n",
       "</div>"
      ],
      "text/plain": [
       "      Tenure_Months  Monthly_Charges  CLTV  Senior_Citizen_Yes  \\\n",
       "2764             24            49.70  2911                   0   \n",
       "4767             68           110.00  5034                   0   \n",
       "3814              1            79.20  4363                   1   \n",
       "3499              1            45.85  3706                   0   \n",
       "2735              3            75.30  5387                   0   \n",
       "\n",
       "      Contract_One_year  Contract_Two_year  \n",
       "2764                  0                  0  \n",
       "4767                  0                  1  \n",
       "3814                  0                  0  \n",
       "3499                  0                  0  \n",
       "2735                  0                  0  "
      ]
     },
     "execution_count": 29,
     "metadata": {},
     "output_type": "execute_result"
    }
   ],
   "source": [
    "valid_X.head()"
   ]
  },
  {
   "cell_type": "code",
   "execution_count": 30,
   "id": "bfb05ccb-b13a-45d5-a445-86fb5429b857",
   "metadata": {},
   "outputs": [],
   "source": [
    "valid_pred = classTree.predict(valid_X)"
   ]
  },
  {
   "cell_type": "code",
   "execution_count": 31,
   "id": "83bfe993-ef18-4f46-9eb4-99fae2d531dd",
   "metadata": {},
   "outputs": [
    {
     "name": "stdout",
     "output_type": "stream",
     "text": [
      "[[1309  157]\n",
      " [ 292  242]]\n"
     ]
    },
    {
     "data": {
      "image/png": "[encoded data removed]",
      "text/plain": [
       "<Figure size 432x288 with 2 Axes>"
      ]
     },
     "metadata": {
      "needs_background": "light"
     },
     "output_type": "display_data"
    }
   ],
   "source": [
    "# Confusion Matrix from sklearn\n",
    "cm = confusion_matrix(valid_y, valid_pred)\n",
    "print(cm)\n",
    "disp = ConfusionMatrixDisplay(cm)\n",
    "disp.plot();"
   ]
  },
  {
   "cell_type": "code",
   "execution_count": 32,
   "id": "8453e381-f61b-44b5-af65-4127f6044b65",
   "metadata": {},
   "outputs": [
    {
     "data": {
      "text/plain": [
       "0.7755"
      ]
     },
     "execution_count": 32,
     "metadata": {},
     "output_type": "execute_result"
    }
   ],
   "source": [
    "accuracy_score(valid_y, valid_pred)"
   ]
  },
  {
   "cell_type": "code",
   "execution_count": 33,
   "id": "73af908a-9dfc-462f-83cb-c139a4f14adf",
   "metadata": {},
   "outputs": [],
   "source": [
    "valid_pred_prob = classTree.predict_proba(valid_X)"
   ]
  },
  {
   "cell_type": "code",
   "execution_count": 34,
   "id": "bd9e4a61-0e07-4520-8bbf-58faef915685",
   "metadata": {},
   "outputs": [
    {
     "data": {
      "text/plain": [
       "array([0.46666667, 0.        , 1.        , ..., 0.        , 0.3902439 ,\n",
       "       0.35294118])"
      ]
     },
     "execution_count": 34,
     "metadata": {},
     "output_type": "execute_result"
    }
   ],
   "source": [
    "valid_pred_prob[:,1]"
   ]
  },
  {
   "cell_type": "code",
   "execution_count": 35,
   "id": "0fa52b07-ff0c-4442-9584-cd26265062f0",
   "metadata": {},
   "outputs": [
    {
     "data": {
      "text/plain": [
       "0.8042854004118318"
      ]
     },
     "execution_count": 35,
     "metadata": {},
     "output_type": "execute_result"
    }
   ],
   "source": [
    "roc_auc_score(valid_y,valid_pred_prob[:,1])"
   ]
  },
  {
   "cell_type": "code",
   "execution_count": null,
   "id": "4cbe3fe5-46da-4b16-9662-48451ed9970b",
   "metadata": {},
   "outputs": [],
   "source": []
  }
 ],
 "metadata": {
  "kernelspec": {
   "display_name": "Python 3 (ipykernel)",
   "language": "python",
   "name": "python3"
  },
  "language_info": {
   "codemirror_mode": {
    "name": "ipython",
    "version": 3
   },
   "file_extension": ".py",
   "mimetype": "text/x-python",
   "name": "python",
   "nbconvert_exporter": "python",
   "pygments_lexer": "ipython3",
   "version": "3.9.7"
  }
 },
 "nbformat": 4,
 "nbformat_minor": 5
}
